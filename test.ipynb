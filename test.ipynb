{
 "cells": [
  {
   "cell_type": "code",
   "execution_count": 3,
   "id": "8a9c30bc",
   "metadata": {},
   "outputs": [
    {
     "name": "stdout",
     "output_type": "stream",
     "text": [
      "this is my frist class\n"
     ]
    }
   ],
   "source": [
    "print(\"this is my frist class\")"
   ]
  },
  {
   "cell_type": "code",
   "execution_count": 6,
   "id": "8800b86c",
   "metadata": {},
   "outputs": [],
   "source": [
    "# My name is Ashish Kumar"
   ]
  },
  {
   "cell_type": "code",
   "execution_count": null,
   "id": "4e096e92",
   "metadata": {},
   "outputs": [],
   "source": []
  }
 ],
 "metadata": {
  "kernelspec": {
   "display_name": "Python 3 (ipykernel)",
   "language": "python",
   "name": "python3"
  },
  "language_info": {
   "codemirror_mode": {
    "name": "ipython",
    "version": 3
   },
   "file_extension": ".py",
   "mimetype": "text/x-python",
   "name": "python",
   "nbconvert_exporter": "python",
   "pygments_lexer": "ipython3",
   "version": "3.9.7"
  }
 },
 "nbformat": 4,
 "nbformat_minor": 5
}
